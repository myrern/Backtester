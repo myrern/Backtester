{
 "cells": [
  {
   "cell_type": "code",
   "execution_count": 12,
   "metadata": {},
   "outputs": [],
   "source": [
    "import pandas as pd\n",
    "import datetime as dt\n",
    "import plotly.graph_objects as go\n",
    "from plotly.subplots import make_subplots\n",
    "\n",
    "class CandlePlot:\n",
    "\n",
    "    def __init__(self, df, candles=True):\n",
    "        self.df_plot = df.copy()\n",
    "        self.candles = candles\n",
    "        self.create_candle_fig()\n",
    "\n",
    "    def create_candle_fig(self):\n",
    "        self.fig = make_subplots(specs=[[{\"secondary_y\": True}]])\n",
    "        if self.candles == True:\n",
    "            self.fig.add_trace(go.Candlestick(\n",
    "                x=self.df_plot.time,\n",
    "                open=self.df_plot.mid_o,\n",
    "                high=self.df_plot.mid_h,\n",
    "                low=self.df_plot.mid_l,\n",
    "                close=self.df_plot.mid_c,\n",
    "                line=dict(width=1), opacity=1,\n",
    "                increasing_fillcolor='#24A06B',\n",
    "                decreasing_fillcolor=\"#CC2E3C\",\n",
    "                increasing_line_color='#2EC886',  \n",
    "                decreasing_line_color='#FF3A4C'\n",
    "            ))\n",
    "\n",
    "    def update_layout(self, width=None, height=None, nticks=5):\n",
    "        self.fig.update_yaxes(gridcolor=\"#1f292f\")\n",
    "        self.fig.update_xaxes(gridcolor=\"#1f292f\", rangeslider=dict(visible=False), nticks=nticks)\n",
    "\n",
    "        self.fig.update_layout(\n",
    "            autosize=True,  # Enable autosize\n",
    "            margin=dict(l=10, r=10, b=10, t=10),\n",
    "            paper_bgcolor=\"#2c303c\",\n",
    "            plot_bgcolor=\"#2c303c\",\n",
    "            font=dict(size=8, color=\"#e1e1e1\")\n",
    "        )\n",
    "\n",
    "    def add_traces(self, line_traces, is_sec=False):\n",
    "        for t in line_traces:\n",
    "            self.fig.add_trace(go.Scatter(\n",
    "                x=self.df_plot.time,\n",
    "                y=self.df_plot[t],\n",
    "                line=dict(width=2),\n",
    "                line_shape=\"spline\",\n",
    "                name=t\n",
    "            ), secondary_y=is_sec)\n",
    "\n",
    "    def show_plot(self, nticks=5, line_traces=[], sec_traces=[]):\n",
    "        self.add_traces(line_traces)\n",
    "        self.add_traces(sec_traces, is_sec=True)\n",
    "        self.update_layout(nticks=nticks)\n",
    "        self.fig.show(renderer=\"browser\")  # Open plot in a new browser window\n",
    "\n",
    "# Plot dataframe\n",
    "df = pd.read_csv('../data/EUR_USD_H1_CURRENCY.csv')\n",
    "df = df.iloc[-365*24:]  # Show only last year of data\n",
    "cp = CandlePlot(df)\n",
    "cp.show_plot()\n"
   ]
  },
  {
   "cell_type": "code",
   "execution_count": null,
   "metadata": {},
   "outputs": [],
   "source": []
  },
  {
   "cell_type": "code",
   "execution_count": null,
   "metadata": {},
   "outputs": [],
   "source": []
  }
 ],
 "metadata": {
  "kernelspec": {
   "display_name": "Python 3 (ipykernel)",
   "language": "python",
   "name": "python3"
  },
  "language_info": {
   "codemirror_mode": {
    "name": "ipython",
    "version": 3
   },
   "file_extension": ".py",
   "mimetype": "text/x-python",
   "name": "python",
   "nbconvert_exporter": "python",
   "pygments_lexer": "ipython3",
   "version": "3.12.0"
  }
 },
 "nbformat": 4,
 "nbformat_minor": 4
}
